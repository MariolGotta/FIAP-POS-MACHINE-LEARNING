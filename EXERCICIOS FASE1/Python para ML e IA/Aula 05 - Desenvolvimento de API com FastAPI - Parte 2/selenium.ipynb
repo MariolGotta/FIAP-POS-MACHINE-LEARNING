{
 "cells": [
  {
   "cell_type": "code",
   "execution_count": 1,
   "id": "bf419ab2",
   "metadata": {},
   "outputs": [],
   "source": [
    "from selenium import webdriver\n",
    "from selenium.webdriver.chrome.service import Service\n",
    "from selenium.webdriver.chrome.options import Options\n",
    "from selenium.webdriver.common.by import By\n",
    "from webdriver_manager.chrome import ChromeDriverManager\n",
    "import time"
   ]
  },
  {
   "cell_type": "code",
   "execution_count": 2,
   "id": "3d722b58",
   "metadata": {},
   "outputs": [],
   "source": [
    "chrome_options = Options()\n",
    "chrome_options.add_argument(\"--headless\")\n",
    "chrome_options.add_argument(\"--no-sandbox\")\n",
    "chrome_options.add_argument(\"--disable-dev-shm-usage\")"
   ]
  },
  {
   "cell_type": "code",
   "execution_count": 3,
   "id": "aa0acb64",
   "metadata": {},
   "outputs": [],
   "source": [
    "service = Service(ChromeDriverManager().install())\n",
    "driver = webdriver.Chrome(service=service, options=chrome_options)"
   ]
  },
  {
   "cell_type": "code",
   "execution_count": 4,
   "id": "603fb165",
   "metadata": {},
   "outputs": [
    {
     "name": "stdout",
     "output_type": "stream",
     "text": [
      "Resultados para a pesquisa: 'Pos Tech FIAP'\n",
      "\n"
     ]
    }
   ],
   "source": [
    "driver.get('https://www.google.com')\n",
    "search_box = driver.find_element(By.NAME, 'q')\n",
    "search_query = 'Pos Tech FIAP'\n",
    "search_box.send_keys(search_query)\n",
    "search_box.submit\n",
    "time.sleep(3)\n",
    "titles = driver.find_elements(By.TAG_NAME, 'h3')\n",
    "print(f\"Resultados para a pesquisa: '{search_query}'\\n\")\n",
    "for idx, title in enumerate(titles, start=1):\n",
    "    print(f\"{idx}. {title.text}\")\n",
    "driver.quit()"
   ]
  }
 ],
 "metadata": {
  "kernelspec": {
   "display_name": "myvenv-notebook",
   "language": "python",
   "name": "python3"
  },
  "language_info": {
   "codemirror_mode": {
    "name": "ipython",
    "version": 3
   },
   "file_extension": ".py",
   "mimetype": "text/x-python",
   "name": "python",
   "nbconvert_exporter": "python",
   "pygments_lexer": "ipython3",
   "version": "3.12.10"
  }
 },
 "nbformat": 4,
 "nbformat_minor": 5
}
